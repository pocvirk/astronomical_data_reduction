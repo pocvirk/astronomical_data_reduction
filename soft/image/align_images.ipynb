{
 "cells": [
  {
   "cell_type": "code",
   "execution_count": null,
   "metadata": {},
   "outputs": [],
   "source": [
    "# in this notebook we see how to realign images\n",
    "# this is often needed as telescope guidance is never perfect\n",
    "# and a lot can occur that will displace the pointing:\n",
    "# - some clouds come, guidance is lost, then reacquired\n",
    "# - if we want to combine images taken from 2 different nights or more\n",
    "\n",
    "# make figures interactive:\n",
    "#%matplotlib notebook \n",
    "%matplotlib inline\n",
    "# import library containing image reduction tools for this class\n",
    "from image_reduction_tools import *\n",
    "# packages for realignment:\n",
    "import astroalign as aa\n",
    "import numpy as np\n",
    "from astropy.io import fits\n",
    "import astropy.io.fits as io\n"
   ]
  },
  {
   "cell_type": "code",
   "execution_count": null,
   "metadata": {},
   "outputs": [],
   "source": [
    "# first lets look at the problem: we would like to RGB compose an image of M1:\n",
    "# we want the longest exposures in Halpha, OIII and B:\n",
    "files=glob.glob('../../data/photo/M1/p*f1.fits')\n",
    "i=0\n",
    "for file in files:\n",
    "    print(i)\n",
    "    print(file)\n",
    "    print_header(file)\n",
    "    i=i+1"
   ]
  },
  {
   "cell_type": "code",
   "execution_count": null,
   "metadata": {},
   "outputs": [],
   "source": [
    "# so our files of interest (for M1) are 0, 3, and 5:\n",
    "B_file=files[0]\n",
    "OIII_file=files[3]\n",
    "Ha_file=files[5]\n",
    "\n",
    "# we could work with that but for clarity we will work in data/photo/M1/align\n",
    "# and create 3 new files there (using cp in the terminal):\n",
    "#B.fits    Ha.fits   OIII.fits\n",
    "\n",
    "B_file=\"../../data/photo/M1/align/B.fits\"\n",
    "OIII_file=\"../../data/photo/M1/align/OIII.fits\"\n",
    "Ha_file=\"../../data/photo/M1/align/Ha.fits\"\n",
    "\n",
    "\n",
    "# we can easily see they are misaligned:\n",
    "B=fits.getdata(B_file,ext=0)\n",
    "OIII=fits.getdata(OIII_file,ext=0)\n",
    "\n",
    "plt.figure(figsize=(5,5))\n",
    "plt.imshow(np.log10(B[:150,:150]))\n",
    "plt.show()\n",
    "plt.figure(figsize=(5,5))\n",
    "plt.imshow(np.log10(OIII[:150,:150]))\n",
    "plt.show()\n",
    "\n"
   ]
  },
  {
   "cell_type": "code",
   "execution_count": null,
   "metadata": {},
   "outputs": [],
   "source": [
    "# generate the new filenames for the aligned images:\n",
    "import os\n",
    "# Split the filename into base and extension\n",
    "base_OIII, extension = os.path.splitext(OIII_file)\n",
    "base_Ha, extension = os.path.splitext(Ha_file)\n",
    "\n",
    "# insert_align before the .fits\n",
    "OIII_al_file=f\"{base_OIII}_align{extension}\"\n",
    "Ha_al_file=f\"{base_Ha}_align{extension}\"\n",
    "print(OIII_al_file)\n",
    "print(Ha_al_file)\n"
   ]
  },
  {
   "cell_type": "code",
   "execution_count": null,
   "metadata": {},
   "outputs": [],
   "source": [
    "# now, lets do the 'registering', i.e. the action of \n",
    "# detecting stars and using them to find the offset between the images:\n",
    "# align OIII trying to match B. OIII_al is the result.\n",
    "OIII_al,footprint=aa.register(np.float32(OIII),np.float32(B))\n",
    "# now lets look at OIII_al and B\n",
    "plt.figure(figsize=(5,5))\n",
    "plt.imshow(np.log10(B[:150,:150]))\n",
    "plt.show()\n",
    "plt.figure(figsize=(5,5))\n",
    "plt.imshow(np.log10(OIII_al[:150,:150]))\n",
    "plt.show()\n",
    "# write the new aligned image\n",
    "write_fits_image(OIII_al_file,OIII_al)\n",
    "\n",
    "# lets do the same with the Halpha image just to be sure\n",
    "Ha=fits.getdata(Ha_file,ext=0)\n",
    "Ha_al,footprint=aa.register(np.float32(Ha),np.float32(B))\n",
    "write_fits_image(Ha_al_file,Ha_al)\n"
   ]
  },
  {
   "cell_type": "code",
   "execution_count": null,
   "metadata": {},
   "outputs": [],
   "source": [
    "# Nice, now its easy to compose a RGB image with ds9, outside of python"
   ]
  },
  {
   "cell_type": "code",
   "execution_count": null,
   "metadata": {},
   "outputs": [],
   "source": []
  }
 ],
 "metadata": {
  "kernelspec": {
   "display_name": "Python 3",
   "language": "python",
   "name": "python3"
  },
  "language_info": {
   "codemirror_mode": {
    "name": "ipython",
    "version": 3
   },
   "file_extension": ".py",
   "mimetype": "text/x-python",
   "name": "python",
   "nbconvert_exporter": "python",
   "pygments_lexer": "ipython3",
   "version": "3.8.5"
  }
 },
 "nbformat": 4,
 "nbformat_minor": 2
}
