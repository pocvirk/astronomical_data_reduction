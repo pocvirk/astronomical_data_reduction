{
 "cells": [
  {
   "cell_type": "code",
   "execution_count": 45,
   "metadata": {},
   "outputs": [
    {
     "name": "stdout",
     "output_type": "stream",
     "text": [
      "date  2023-12-12T05:19:53.000\n",
      "RA  184d44m24.29988s\n",
      "DEC  47d18m13.38984s\n",
      "vcorr  21476.809064068824 m / s\n"
     ]
    }
   ],
   "source": [
    "from astropy.time import Time\n",
    "from astropy.coordinates import SkyCoord, EarthLocation\n",
    "from astropy.constants import c\n",
    "import astropy.units as u\n",
    "from spectro_tools import *\n",
    "from astroplan import FixedTarget\n",
    "\n",
    "\n",
    "file=\"../../data/2023/t152_spectro/M106/M106__00006.fits\"\n",
    "axis,data,header=read_raw_spectrum(file,get_header=1)\n",
    "#print_header(file,l=1)\n",
    "t=Time(header['DATE'],scale='utc') # is this UTC? it better be!!\n",
    "# well if its local time its UTC +- 1 hour....\n",
    "print('date ',t)\n",
    "locOHP = EarthLocation('5.7107d','43.9346d',650.*u.m) # OHP cooords, lon, lat\n",
    "#sc = SkyCoord(1*u.deg, 2*u.deg)\n",
    "M106 = FixedTarget.from_name('M106') # get coords from simbad\n",
    "print('RA ',M106.ra)\n",
    "print('DEC ',M106.dec)\n",
    "# create skycoord object using coords\n",
    "#sc = SkyCoord(ra=100.625*u.degree, dec=41.2*u.degree, frame='icrs')\n",
    "# or just use the coords fetched from simbad:\n",
    "sc= SkyCoord(ra=M106.ra,dec=M106.dec,frame='icrs')\n",
    "vcorr = sc.radial_velocity_correction(kind='barycentric', obstime=t, location=locOHP)  \n",
    "print('vcorr ',vcorr)\n",
    "\n",
    "# USAGE: Vbary = Vobs + vcorr\n",
    "#(see formula here: https://docs.astropy.org/en/stable/coordinates/velocities.html#astropy-coordinates-rv-corrs)"
   ]
  },
  {
   "cell_type": "code",
   "execution_count": null,
   "metadata": {},
   "outputs": [],
   "source": []
  }
 ],
 "metadata": {
  "kernelspec": {
   "display_name": "Python 3",
   "language": "python",
   "name": "python3"
  },
  "language_info": {
   "codemirror_mode": {
    "name": "ipython",
    "version": 3
   },
   "file_extension": ".py",
   "mimetype": "text/x-python",
   "name": "python",
   "nbconvert_exporter": "python",
   "pygments_lexer": "ipython3",
   "version": "3.8.5"
  }
 },
 "nbformat": 4,
 "nbformat_minor": 2
}
