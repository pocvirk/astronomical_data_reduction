{
 "cells": [
  {
   "cell_type": "code",
   "execution_count": null,
   "metadata": {},
   "outputs": [],
   "source": [
    "# => makes the plot interactive\n",
    "%matplotlib notebook \n",
    "# inline makes the plots static\n",
    "#%matplotlib inline \n",
    "\n",
    "import numpy as np\n",
    "from astropy.io import fits\n",
    "import matplotlib.pyplot as plt\n",
    "from scipy.signal import find_peaks\n",
    "from scipy.optimize import curve_fit\n",
    "import warnings\n",
    "# filter astropy warning on fits headers\n",
    "warnings.filterwarnings('ignore', category=UserWarning, append=True)\n",
    "from spectro_tools import *\n",
    "import glob # helps with building file lists\n",
    "from numpy.polynomial import chebyshev\n",
    "\n",
    "\n",
    "# Just like we did for image reduction, reducing spectra involves:\n",
    "# 1 - generate master_bias = median(bias)\n",
    "# 2 - generate master_flat = median(normalized (flat-master_bias))\n",
    "# 3 - reduced_spectrum = (raw_spectrum - master_bias)/master_flat\n",
    "# and we'll stop here, as:\n",
    "# 4 - the last step is the wavelength calibration, and is done in a different notebook\n",
    "\n",
    "# functions to use: from spectro_tools\n",
    "#read_raw_spectrum   , also with option get_header=1\n",
    "#write_fits_spectrum\n",
    "#maybe also have a look at spectro_tools\n"
   ]
  },
  {
   "cell_type": "code",
   "execution_count": null,
   "metadata": {},
   "outputs": [],
   "source": [
    "# First lets have a look at a raw spectrum\n",
    "# hint: they are in '../../data/t152_spectro/'\n",
    "# use plt.figure(figsize=(9, 5)) for a nice view\n",
    "\n"
   ]
  },
  {
   "cell_type": "code",
   "execution_count": null,
   "metadata": {},
   "outputs": [],
   "source": [
    "# Now, let's have a look at a bias: (in offsets dir)\n",
    "# use plt.figure(figsize=(9, 5))\n"
   ]
  },
  {
   "cell_type": "code",
   "execution_count": null,
   "metadata": {},
   "outputs": [],
   "source": [
    "# Now, let's have overplot them, just out of curiosity\n"
   ]
  },
  {
   "cell_type": "code",
   "execution_count": null,
   "metadata": {},
   "outputs": [],
   "source": [
    "# EXERCISE:\n",
    "# and now let's median them like we did for the image bias:\n"
   ]
  },
  {
   "cell_type": "code",
   "execution_count": null,
   "metadata": {},
   "outputs": [],
   "source": [
    "# lets look at the flats:\n",
    "\n",
    "\n",
    "# What is the origin of the wide negative slope we see there?\n",
    "# maybe have a look at the header for a clue?"
   ]
  },
  {
   "cell_type": "code",
   "execution_count": null,
   "metadata": {},
   "outputs": [],
   "source": [
    "# We'd like to remove that slope because it is not useful in our analysis. \n",
    "# Because Its actually an artefact of our flatfielding apparatus.\n",
    "# Maybe we can try fitting it with a low order polynomial and dividing the flat by that:\n",
    "# But FIRST we MUST remove the bias, before doing anything else!\n",
    "\n",
    "# why is it not working?\n",
    "# how can we make it better?\n"
   ]
  },
  {
   "cell_type": "code",
   "execution_count": null,
   "metadata": {},
   "outputs": [],
   "source": [
    "# mask the outliers and redo the fit\n"
   ]
  },
  {
   "cell_type": "code",
   "execution_count": null,
   "metadata": {},
   "outputs": [],
   "source": [
    "# now lets do all the flats and save them\n",
    "\n"
   ]
  },
  {
   "cell_type": "code",
   "execution_count": null,
   "metadata": {},
   "outputs": [],
   "source": [
    "# now median the normalized flats and plot it on top of the other normalized flats"
   ]
  },
  {
   "cell_type": "code",
   "execution_count": null,
   "metadata": {},
   "outputs": [],
   "source": []
  }
 ],
 "metadata": {
  "kernelspec": {
   "display_name": "Python 3",
   "language": "python",
   "name": "python3"
  },
  "language_info": {
   "codemirror_mode": {
    "name": "ipython",
    "version": 3
   },
   "file_extension": ".py",
   "mimetype": "text/x-python",
   "name": "python",
   "nbconvert_exporter": "python",
   "pygments_lexer": "ipython3",
   "version": "3.8.5"
  }
 },
 "nbformat": 4,
 "nbformat_minor": 2
}
